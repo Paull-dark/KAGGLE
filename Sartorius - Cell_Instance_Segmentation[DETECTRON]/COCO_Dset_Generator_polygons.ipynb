{
 "cells": [
  {
   "cell_type": "markdown",
   "metadata": {
    "collapsed": true,
    "pycharm": {
     "name": "#%% md\n"
    }
   },
   "source": [
    "# Intro"
   ]
  },
  {
   "cell_type": "markdown",
   "metadata": {
    "pycharm": {
     "name": "#%% md\n"
    }
   },
   "source": [
    "There are many semantic segmentation tools available, and they all require image annotations in one of several specific formats. In this notebook we will create COCO annotations for the Sartoruis dataset. There are many conversion tools available that can convert from COCO to a different target format as well, so COCO is quite versatile."
   ]
  },
  {
   "cell_type": "code",
   "execution_count": 1,
   "metadata": {
    "pycharm": {
     "name": "#%%\n"
    }
   },
   "outputs": [],
   "source": [
    "from pycocotools.coco import COCO\n",
    "from pycocotools.mask import encode, area, toBbox\n",
    "import numpy as np\n",
    "import pandas as pd\n",
    "import matplotlib.pyplot as plt\n",
    "import json\n",
    "from sklearn.model_selection import StratifiedKFold\n",
    "import glob\n",
    "from PIL import Image\n",
    "from skimage import measure\n",
    "import skimage.io as io\n",
    "from shapely.geometry import Polygon, MultiPolygon\n",
    "from tqdm import tqdm\n",
    "import gc\n",
    "from os.path import exists\n",
    "from pathlib import Path"
   ]
  },
  {
   "cell_type": "markdown",
   "metadata": {
    "pycharm": {
     "name": "#%% md\n"
    }
   },
   "source": [
    "# Download and preparing Dsets"
   ]
  },
  {
   "cell_type": "markdown",
   "metadata": {
    "pycharm": {
     "name": "#%% md\n"
    }
   },
   "source": [
    " - [create-coco-annotations-from-scratch](https://www.immersivelimit.com/create-coco-annotations-from-scratch)\n",
    " - [pycocotools](https://github.com/cocodataset/cocoapi/tree/master/PythonAPI)"
   ]
  },
  {
   "cell_type": "code",
   "execution_count": 2,
   "metadata": {
    "pycharm": {
     "name": "#%%\n"
    }
   },
   "outputs": [],
   "source": [
    "data_dir = './sartorius-cell-instance-segmentation'\n",
    "\n",
    "TRAIN_CSV = f\"{data_dir}/train.csv\"\n",
    "TRAIN_PATH = f\"{data_dir}/train\"\n",
    "TEST_PATH = f\"{data_dir}/test\"\n",
    "# annFile_path = f\"{data_dir}/annotations_train.json\"\n",
    "\n",
    "ROOT = Path(data_dir)\n",
    "#TRAIN_FILES = Path(TRAIN_PATH)\n",
    "\n",
    "WIDTH = 704\n",
    "HEIGHT = 520\n",
    "\n",
    "# Normalize to resnet mean and std if True.\n",
    "# RESNET_MEAN = [0.485, 0.456, 0.406]\n",
    "# RESNET_STD = [0.229, 0.224, 0.225]\n",
    "IMAGE_RESIZE = (224, 224)\n",
    "TH = 40"
   ]
  },
  {
   "cell_type": "code",
   "execution_count": 3,
   "metadata": {
    "pycharm": {
     "name": "#%%\n"
    }
   },
   "outputs": [],
   "source": [
    "df = pd.read_csv(TRAIN_CSV)"
   ]
  },
  {
   "cell_type": "markdown",
   "metadata": {
    "pycharm": {
     "name": "#%% md\n"
    }
   },
   "source": [
    "Create a few lists with files, ids and cell type for later use:"
   ]
  },
  {
   "cell_type": "code",
   "execution_count": 4,
   "metadata": {
    "pycharm": {
     "name": "#%%\n"
    }
   },
   "outputs": [],
   "source": [
    "FILE_NAMES = sorted(list(Path(TRAIN_PATH).rglob('*png')))\n",
    "cell_type = []\n",
    "fids = []\n",
    "for file_indx in FILE_NAMES:\n",
    "    fids.append(file_indx.stem)\n",
    "    cell_type.append(df[df.id == str(file_indx.stem)].cell_type.iloc[0])\n",
    "\n",
    "# FILE_NAMES = glob.glob('./sartorius-cell-instance-segmentation/train/*.png')\n",
    "# cell_type = []\n",
    "# fids = []\n",
    "# for i in range(len(FILE_NAMES)):\n",
    "#     fid = FILE_NAMES[i].split('/')[-1].split('.')[0]\n",
    "#     fids.append(fid)\n",
    "#     cell_type.append(df[df.id == fid].cell_type.iloc[0])"
   ]
  },
  {
   "cell_type": "code",
   "execution_count": null,
   "metadata": {},
   "outputs": [],
   "source": []
  },
  {
   "cell_type": "markdown",
   "metadata": {
    "pycharm": {
     "name": "#%% md\n"
    }
   },
   "source": [
    "## Create COCO files\n",
    "\n",
    "Conversion is pretty slow, going from binary masks to polygons."
   ]
  },
  {
   "cell_type": "markdown",
   "metadata": {
    "pycharm": {
     "name": "#%% md\n"
    }
   },
   "source": [
    "Stratify on cell type and create one COCO .json file for train and test per fold."
   ]
  },
  {
   "cell_type": "code",
   "execution_count": 5,
   "metadata": {
    "pycharm": {
     "name": "#%%\n"
    }
   },
   "outputs": [],
   "source": [
    "CATEGORIES = {\"shsy5y\": 1, \"astro\":2, \"cort\": 3}\n",
    "# ref: https://www.kaggle.com/inversion/run-length-decoding-quick-start\n",
    "def rle_decode(mask_rle, mask, color=1):\n",
    "    '''\n",
    "    mask_rle: run-length as string formated (start length)\n",
    "    shape: (height, width, channels) of array to return\n",
    "    color: color for the mask\n",
    "    Returns numpy array (mask)\n",
    "\n",
    "    '''\n",
    "    s = mask_rle.split()\n",
    "\n",
    "    starts = list(map(lambda x: int(x) - 1, s[0::2]))\n",
    "    lengths = list(map(int, s[1::2]))\n",
    "    ends = [x + y for x, y in zip(starts, lengths)]\n",
    "\n",
    "    img = mask.reshape((mask.shape[0] * mask.shape[1]))\n",
    "\n",
    "    for start, end in zip(starts, ends):\n",
    "        img[start : end] = color\n",
    "\n",
    "    return img.reshape(mask.shape)\n",
    "\n",
    "def create_segmentation(sub_mask):\n",
    "    contours = measure.find_contours(sub_mask, 0.5, positive_orientation='low')\n",
    "    segmentations = []\n",
    "    for contour in contours:\n",
    "        # Flip from (row, col) representation to (x, y)\n",
    "        # and subtract the padding pixel\n",
    "        for i in range(len(contour)):\n",
    "            row, col = contour[i]\n",
    "            contour[i] = (col - 1, row - 1)\n",
    "\n",
    "        # Make a polygon and simplify it\n",
    "        if len(contour) > 2:\n",
    "            poly = Polygon(contour)\n",
    "            poly = poly.simplify(1.0, preserve_topology=False)\n",
    "            if not poly.is_empty:\n",
    "                try: # might fail if polygons are not connected\n",
    "                    segmentation = np.array(poly.exterior.coords).ravel().tolist()\n",
    "                    for i in range(len(segmentation)):\n",
    "                        segmentation[i] = np.clip(segmentation[i], 0, 1e6)\n",
    "                    segmentations.append(segmentation)\n",
    "                except:\n",
    "                    pass\n",
    "\n",
    "    return segmentations\n",
    "\n",
    "# https://www.kaggle.com/c/sartorius-cell-instance-segmentation/discussion/291371\n",
    "def fill_hole(m):\n",
    "    filled = m.copy()\n",
    "    pad = np.pad(m, 4)\n",
    "    lb = measure.label(pad < 0.5, background=0, connectivity=1)\n",
    "    u, cc = np.unique(lb, return_counts=True)\n",
    "    if len(u) > 2:\n",
    "        #print(u, cc)\n",
    "        lb = lb[4:-4, 4:-4]\n",
    "        for uu in u[2:]:\n",
    "            filled[lb == uu] = 1\n",
    "\n",
    "    return filled\n",
    "\n",
    "\n",
    "CLEAN_M = './clean-astro-mask/'\n",
    "\n",
    "\n",
    "def create_single_mask(annotation, img_size, r=None):\n",
    "    mask = np.zeros(img_size, dtype=np.uint8)\n",
    "    mask = rle_decode(annotation, mask)\n",
    "    mask = fill_hole(mask)\n",
    "    if r is not None:\n",
    "        mask = mask & r\n",
    "    return mask\n",
    "\n",
    "def add_image(df, fid, fpath, tset, aid,):# status):\n",
    "    idx = len(tset[\"images\"])+1\n",
    "    h = df[df.id == fid].height.iloc[0]\n",
    "    w = df[df.id == fid].width.iloc[0]\n",
    "    tset['images'].append({\"height\": int(h),\n",
    "                           \"width\": int(w),\n",
    "                           \"id\": int(idx),\n",
    "                           #\"file_name\": fpath.replace('\\\\', '/')})\n",
    "                           \"file_name\": f'train/{fpath.name}'})#.replace('\\\\', '/')})\n",
    "    adf = df[df.id == fid]\n",
    "    # check for cleaned mask\n",
    "    ipath = CLEAN_M+fid+'.png'\n",
    "    if exists(ipath):\n",
    "        corr = plt.imread(ipath)\n",
    "        # extract red channel\n",
    "        r = corr[:,:,0].astype(np.uint8)\n",
    "    else:\n",
    "        r = None\n",
    "    # add each object as segment\n",
    "    for j in range(len(adf)):\n",
    "        cat = CATEGORIES[df[df.id == fid].cell_type.iloc[j]]\n",
    "        # create mask\n",
    "        m = create_single_mask(df[df.id == fid].annotation.iloc[j], [h, w], r)\n",
    "        # encode as RLE\n",
    "        me = encode(np.asfortranarray(m))\n",
    "        # calc stats\n",
    "        bbox = toBbox(me).astype(np.int32).tolist()\n",
    "        a = area(me)\n",
    "        # Polygons\n",
    "        poly = create_segmentation(m)\n",
    "        if len(poly) > 0:\n",
    "            tset[\"annotations\"].append({\"iscrowd\": 0,\n",
    "                                        \"image_id\": int(idx),\n",
    "                                        \"bbox\": bbox,\n",
    "                                        \"segmentation\": poly,\n",
    "                                        \"category_id\": int(cat),\n",
    "                                        \"id\": int(aid),\n",
    "                                        \"area\": int(a)})\n",
    "            aid += 1\n",
    "    return tset, aid"
   ]
  },
  {
   "cell_type": "code",
   "execution_count": 6,
   "metadata": {
    "pycharm": {
     "name": "#%%\n"
    }
   },
   "outputs": [],
   "source": [
    "def create_coco(files, idx,):#status):\n",
    "    # define overall structure\n",
    "    train_set = {\"images\": [], \"categories\": [], \"annotations\": []}\n",
    "    # define classes\n",
    "    train_set[\"categories\"].append({\"supercategory\": \"cells\", \"id\": 1, \"name\": \"shsy5y\"})\n",
    "    train_set[\"categories\"].append({\"supercategory\": \"cells\", \"id\": 2, \"name\": \"astro\"})\n",
    "    train_set[\"categories\"].append({\"supercategory\": \"cells\", \"id\": 3, \"name\": \"cort\"})\n",
    "\n",
    "    anno_id = 1 # start annotation ID at 1\n",
    "    for i in tqdm(range(len(files))):\n",
    "        train_set, anno_id = add_image(df, idx[i], files[i], train_set, anno_id,)#status)\n",
    "    return train_set"
   ]
  },
  {
   "cell_type": "code",
   "execution_count": 7,
   "metadata": {},
   "outputs": [
    {
     "data": {
      "text/plain": [
       "PosixPath('sartorius-cell-instance-segmentation/train/0140b3c8f445.png')"
      ]
     },
     "execution_count": 7,
     "metadata": {},
     "output_type": "execute_result"
    }
   ],
   "source": [
    "FILE_NAMES[1]"
   ]
  },
  {
   "cell_type": "code",
   "execution_count": 9,
   "metadata": {
    "pycharm": {
     "name": "#%%\n"
    }
   },
   "outputs": [
    {
     "name": "stderr",
     "output_type": "stream",
     "text": [
      "100%|████████████████████████████████████████████████████████████████████████████████████████████████████████████████████████████████████████████████████████████████████████████████████████████████████| 484/484 [20:11<00:00,  2.50s/it]\n",
      "100%|████████████████████████████████████████████████████████████████████████████████████████████████████████████████████████████████████████████████████████████████████████████████████████████████████| 122/122 [05:01<00:00,  2.47s/it]\n",
      "100%|████████████████████████████████████████████████████████████████████████████████████████████████████████████████████████████████████████████████████████████████████████████████████████████████████| 485/485 [21:27<00:00,  2.66s/it]\n",
      "100%|████████████████████████████████████████████████████████████████████████████████████████████████████████████████████████████████████████████████████████████████████████████████████████████████████| 121/121 [06:01<00:00,  2.99s/it]\n",
      "100%|████████████████████████████████████████████████████████████████████████████████████████████████████████████████████████████████████████████████████████████████████████████████████████████████████| 485/485 [21:17<00:00,  2.63s/it]\n",
      "100%|████████████████████████████████████████████████████████████████████████████████████████████████████████████████████████████████████████████████████████████████████████████████████████████████████| 121/121 [05:16<00:00,  2.61s/it]\n",
      "100%|████████████████████████████████████████████████████████████████████████████████████████████████████████████████████████████████████████████████████████████████████████████████████████████████████| 485/485 [20:15<00:00,  2.51s/it]\n",
      "100%|████████████████████████████████████████████████████████████████████████████████████████████████████████████████████████████████████████████████████████████████████████████████████████████████████| 121/121 [05:09<00:00,  2.56s/it]\n",
      "100%|████████████████████████████████████████████████████████████████████████████████████████████████████████████████████████████████████████████████████████████████████████████████████████████████████| 485/485 [21:09<00:00,  2.62s/it]\n",
      "100%|████████████████████████████████████████████████████████████████████████████████████████████████████████████████████████████████████████████████████████████████████████████████████████████████████| 121/121 [04:34<00:00,  2.27s/it]\n"
     ]
    }
   ],
   "source": [
    "K_FOLDS = 5\n",
    "\n",
    "kf = StratifiedKFold(n_splits=K_FOLDS, shuffle=True, random_state=42)\n",
    "for fold, (train_index, test_index) in enumerate(kf.split(FILE_NAMES, cell_type)):\n",
    "    # train set\n",
    "    train_ds = [FILE_NAMES[i] for i in train_index]\n",
    "    train_fids = [fids[i] for i in train_index]\n",
    "    tset = create_coco(train_ds, train_fids)\n",
    "    with open('train_fold_{}.json'.format(fold), 'w') as f:\n",
    "        json.dump(tset, f, indent=4)\n",
    "    # test set\n",
    "    valid_ds = [FILE_NAMES[i] for i in test_index]\n",
    "    valid_fids = [fids[i] for i in test_index]\n",
    "    vset = create_coco(valid_ds, valid_fids)\n",
    "    with open('test_fold_{}.json'.format(fold), 'w') as f:\n",
    "        json.dump(vset, f, indent=4)\n",
    "\n",
    "    del tset, vset\n",
    "    gc.collect()"
   ]
  },
  {
   "cell_type": "code",
   "execution_count": 10,
   "metadata": {
    "pycharm": {
     "name": "#%%\n"
    }
   },
   "outputs": [],
   "source": [
    "from sklearn.model_selection import train_test_split"
   ]
  },
  {
   "cell_type": "code",
   "execution_count": null,
   "metadata": {
    "pycharm": {
     "name": "#%%\n"
    }
   },
   "outputs": [],
   "source": [
    "train_files = sorted(list(Path(TRAIN_PATH).rglob('*png')))\n",
    "test_files = sorted(list(Path(TEST_PATH).rglob('*.png')))\n",
    "print(f'Number of pictures in train dir: {len(train_files)} pcs')\n",
    "print()\n",
    "print(f'Number of pictures in test dir: {len(test_files)} pcs')"
   ]
  },
  {
   "cell_type": "code",
   "execution_count": null,
   "metadata": {
    "pycharm": {
     "name": "#%%\n"
    }
   },
   "outputs": [],
   "source": [
    "# Split dataset to train and val sets\n",
    "train_pics, val_pics = train_test_split(train_files, test_size=0.1,shuffle=True)"
   ]
  },
  {
   "cell_type": "code",
   "execution_count": null,
   "metadata": {
    "pycharm": {
     "name": "#%%\n"
    }
   },
   "outputs": [],
   "source": [
    "# Extract pic Id from Path\n",
    "train_pic_id = [path.stem for path in train_pics]\n",
    "val_pic_id = [path.stem for path in val_pics]\n",
    "# Print number of files in tran and val sets\n",
    "print(f'Number of pictures in train set: {len(train_pics)}')\n",
    "print()\n",
    "print(f'Number of pictures in val set: {len(val_pics)}')"
   ]
  },
  {
   "cell_type": "code",
   "execution_count": null,
   "metadata": {
    "pycharm": {
     "name": "#%%\n"
    }
   },
   "outputs": [],
   "source": [
    "train_set = create_coco(train_pics, train_pic_id,'train')\n",
    "val_set = create_coco(val_pics, val_pic_id,'train')"
   ]
  },
  {
   "cell_type": "code",
   "execution_count": null,
   "metadata": {
    "pycharm": {
     "name": "#%%\n"
    }
   },
   "outputs": [],
   "source": [
    "all_set = create_coco(train_files, [path.stem for path in train_files],'train')"
   ]
  },
  {
   "cell_type": "code",
   "execution_count": null,
   "metadata": {
    "pycharm": {
     "name": "#%%\n"
    }
   },
   "outputs": [],
   "source": [
    "with open('annotations_train_poly.json', 'w') as f:\n",
    "        json.dump(train_set, f, indent=4)\n",
    "\n",
    "with open('annotations_val_poly.json', 'w') as f:\n",
    "        json.dump(val_set, f, indent=4)\n",
    "\n",
    "# with open('annotations_all_poly.json', 'w') as f:\n",
    "#         json.dump(all_set, f, indent=4)"
   ]
  },
  {
   "cell_type": "code",
   "execution_count": null,
   "metadata": {
    "pycharm": {
     "name": "#%%\n"
    }
   },
   "outputs": [],
   "source": []
  },
  {
   "cell_type": "code",
   "execution_count": null,
   "metadata": {
    "pycharm": {
     "name": "#%%\n"
    }
   },
   "outputs": [],
   "source": []
  }
 ],
 "metadata": {
  "kernelspec": {
   "display_name": "Python 3 (ipykernel)",
   "language": "python",
   "name": "python3"
  },
  "language_info": {
   "codemirror_mode": {
    "name": "ipython",
    "version": 3
   },
   "file_extension": ".py",
   "mimetype": "text/x-python",
   "name": "python",
   "nbconvert_exporter": "python",
   "pygments_lexer": "ipython3",
   "version": "3.8.10"
  },
  "toc": {
   "base_numbering": 1,
   "nav_menu": {},
   "number_sections": true,
   "sideBar": true,
   "skip_h1_title": false,
   "title_cell": "Table of Contents",
   "title_sidebar": "Contents",
   "toc_cell": false,
   "toc_position": {},
   "toc_section_display": true,
   "toc_window_display": false
  },
  "varInspector": {
   "cols": {
    "lenName": 16,
    "lenType": 16,
    "lenVar": 40
   },
   "kernels_config": {
    "python": {
     "delete_cmd_postfix": "",
     "delete_cmd_prefix": "del ",
     "library": "var_list.py",
     "varRefreshCmd": "print(var_dic_list())"
    },
    "r": {
     "delete_cmd_postfix": ") ",
     "delete_cmd_prefix": "rm(",
     "library": "var_list.r",
     "varRefreshCmd": "cat(var_dic_list()) "
    }
   },
   "types_to_exclude": [
    "module",
    "function",
    "builtin_function_or_method",
    "instance",
    "_Feature"
   ],
   "window_display": false
  }
 },
 "nbformat": 4,
 "nbformat_minor": 1
}
